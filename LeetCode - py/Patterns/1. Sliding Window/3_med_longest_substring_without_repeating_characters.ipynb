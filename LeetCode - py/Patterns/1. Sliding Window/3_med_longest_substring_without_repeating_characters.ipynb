{
 "metadata": {
  "language_info": {
   "codemirror_mode": {
    "name": "ipython",
    "version": 3
   },
   "file_extension": ".py",
   "mimetype": "text/x-python",
   "name": "python",
   "nbconvert_exporter": "python",
   "pygments_lexer": "ipython3",
   "version": "3.7.4-final"
  },
  "orig_nbformat": 2,
  "kernelspec": {
   "name": "python3",
   "display_name": "Python 3",
   "language": "python"
  }
 },
 "nbformat": 4,
 "nbformat_minor": 2,
 "cells": [
  {
   "source": [
    "# 3. Logest Substring without repeating characters\n",
    "\n",
    "## Question type\n",
    "Sliding window (medium)\n",
    "\n",
    "## Qeustion description\n",
    "Given a string s, find the length of the longest substring without repeating characters.\n",
    "\n",
    "Example 1:\n",
    "```\n",
    "Input: s = \"abcabcbb\"\n",
    "Output: 3\n",
    "Explanation: The answer is \"abc\", with the length of 3.\n",
    "```\n",
    "Example 2:\n",
    "```\n",
    "Input: s = \"bbbbb\"\n",
    "Output: 1\n",
    "Explanation: The answer is \"b\", with the length of 1.\n",
    "```\n",
    "Example 3:\n",
    "```\n",
    "Input: s = \"pwwkew\"\n",
    "Output: 3\n",
    "Explanation: The answer is \"wke\", with the length of 3.\n",
    "Notice that the answer must be a substring, \"pwke\" is a subsequence and not a substring.\n",
    "```\n",
    "Example 4:\n",
    "```\n",
    "Input: s = \"\"\n",
    "Output: 0\n",
    "```\n",
    "Constraints:\n",
    "```\n",
    "0 <= s.length <= 5 * 104\n",
    "s consists of English letters, digits, symbols and spaces.\n",
    "```\n",
    "\n",
    "## Brain map and key points\n",
    "1. \n",
    "2. \n",
    "\n",
    "## Import dependencies and input variables"
   ],
   "cell_type": "markdown",
   "metadata": {}
  },
  {
   "source": [
    "input = 'pwwkew'"
   ],
   "cell_type": "code",
   "metadata": {},
   "execution_count": 1,
   "outputs": []
  },
  {
   "source": [
    "## My first answer"
   ],
   "cell_type": "markdown",
   "metadata": {}
  },
  {
   "source": [
    "def lengthOfLongestSubstring(s) -> int:\n",
    "    m, left,right, d, count = [0]*128, 0, 0, 0,0\n",
    "    while right < len(s):\n",
    "        if m[ord(s[right])] > 0: \n",
    "            count = count + 1            \n",
    "        m[ord(s[right])] += 1\n",
    "        right=right+1\n",
    "        while count > 0:\n",
    "            if m[ord(s[left])] > 1: \n",
    "                count-=1                \n",
    "            m[ord(s[left])] -= 1\n",
    "            left = left + 1      \n",
    "        d = max(d, right - left)\n",
    "    return d "
   ],
   "cell_type": "code",
   "metadata": {},
   "execution_count": 2,
   "outputs": []
  },
  {
   "source": [
    "## The optimal answer"
   ],
   "cell_type": "markdown",
   "metadata": {}
  },
  {
   "source": [],
   "cell_type": "code",
   "metadata": {},
   "execution_count": null,
   "outputs": []
  },
  {
   "source": [
    "## Answer evaluation"
   ],
   "cell_type": "markdown",
   "metadata": {}
  },
  {
   "cell_type": "code",
   "execution_count": 3,
   "metadata": {},
   "outputs": [
    {
     "output_type": "execute_result",
     "data": {
      "text/plain": [
       "3"
      ]
     },
     "metadata": {},
     "execution_count": 3
    }
   ],
   "source": [
    "lengthOfLongestSubstring(input)"
   ]
  }
 ]
}